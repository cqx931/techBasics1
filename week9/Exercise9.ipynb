{
 "cells": [
  {
   "metadata": {},
   "cell_type": "markdown",
   "source": [
    "Let's take a closer look at the Dino class example from last week. For an object in interactive context with visual elements, the general principle to create a class can be the following:\n",
    "1. Init the object with necessary initial states (image used, variables to store position, speed, special states...)\n",
    "2. Methods to update states (update position)\n",
    "3. Methods to draw the object on the screen\n",
    "4. Methods for optional transformations (like tint, scale, rotation....)\n",
    "5. Methods to handle special events (collision, keyboard/mouse interactions)"
   ],
   "id": "dd21f3565a5f99c8"
  },
  {
   "metadata": {},
   "cell_type": "code",
   "outputs": [],
   "execution_count": null,
   "source": [
    "class Dino:\n",
    "    def __init__(self, pos_x:int, pos_y:int):\n",
    "        img = pygame.image.load(\"dino.png\")\n",
    "        self.img = pygame.transform.scale(img, (100,100))\n",
    "        # init position\n",
    "        self.pos_x = pos_x\n",
    "        self.pos_y = pos_y\n",
    "\n",
    "    def tint(self):\n",
    "        # option: tint your image if you want\n",
    "        self.img.fill((0, 0, 200, 100), special_flags=pygame.BLEND_ADD)\n",
    "        pass\n",
    "\n",
    "    def animate(self):\n",
    "        if self.pos_x < SCREEN_WIDTH:\n",
    "           self.pos_x += 3\n",
    "        else:\n",
    "           self.pos_x = 0\n",
    "\n",
    "    def draw(self):\n",
    "        screen.blit(self.img, (self.pos_x, self.pos_y))\n"
   ],
   "id": "db05c6bfb9d47c9"
  },
  {
   "metadata": {},
   "cell_type": "markdown",
   "source": [
    "### Handling Events\n",
    "\n",
    "It's nice to see visuals on the screen, but to make things more interactive, we need something called events.\n",
    "All types of interactions, ranging from keyboard presses to mouse clicks are all handled by events.\n",
    "You can use the following program to print out information about all the events passed by the operating system to the pygame program.\n",
    "\n",
    "You can find out more about all potential events in the [pygame documentation](https://www.pygame.org/docs/ref/event.html). But sometimes it's easier just to print it out and use it directly!\n",
    "\n",
    "Similar like last week, copy paste all the pygame code to a testing python file to try your code.\n"
   ],
   "id": "a3a0e71b73cacc31"
  },
  {
   "metadata": {},
   "cell_type": "code",
   "outputs": [],
   "execution_count": null,
   "source": [
    "import pygame\n",
    "\n",
    "pygame.init()\n",
    "window = pygame.display.set_mode((640, 480))\n",
    "\n",
    "while True:\n",
    "    for event in pygame.event.get():\n",
    "        print(event)\n",
    "        if event.type == pygame.QUIT:\n",
    "            exit()"
   ],
   "id": "2e0759dd200389da"
  },
  {
   "metadata": {},
   "cell_type": "markdown",
   "source": "You will see from your console that a lot of things are going on there! To make the prints more readable let's first just print out the KEYDOWN events. Try to press different keys on your keyboard, observe the results especially with arrow keys, caps and special characters with shift.",
   "id": "c4027021bf02de8"
  },
  {
   "metadata": {},
   "cell_type": "code",
   "outputs": [],
   "execution_count": null,
   "source": [
    "import pygame\n",
    "\n",
    "pygame.init()\n",
    "window = pygame.display.set_mode((640, 480))\n",
    "\n",
    "while True:\n",
    "    for event in pygame.event.get():\n",
    "        # print all key down events\n",
    "        if event.type == pygame.KEYDOWN:\n",
    "            print(event)\n",
    "        if event.type == pygame.QUIT:\n",
    "            exit()\n"
   ],
   "id": "b40a0f9857f839f5"
  },
  {
   "metadata": {},
   "cell_type": "markdown",
   "source": [
    "\n",
    "\n",
    "A keyboard event occurs when a key is pressed (KEYDOWN) and when a key is released (KEYUP). From the example above we can see that each key event contains following attributes:\n",
    "- `unicode`: it stores the unicode value of the key that was pressed or released.\n",
    "- `key`: it contains the value of what key was pressed or released.\n",
    "- `mod`: it contains information about the state of keyboard modifiers (SHIFT, CTRL, ALT, etc.).\n",
    "- `scancode`: it represents the physical location of a key on the keyboard.\n",
    "\n",
    "To map with event triggered by a specific key, it's easier to compare the `event.key` attribute with python's [key constants](https://www.pygame.org/docs/ref/key.html#key-constants-label). Here is an example of event handling with left and right arrow keys."
   ],
   "id": "c8ad5958a976a332"
  },
  {
   "metadata": {},
   "cell_type": "code",
   "outputs": [],
   "execution_count": null,
   "source": [
    "import pygame\n",
    "\n",
    "pygame.init()\n",
    "window = pygame.display.set_mode((640, 480))\n",
    "\n",
    "while True:\n",
    "    for event in pygame.event.get():\n",
    "        if event.type == pygame.KEYDOWN:\n",
    "            if event.key == pygame.K_LEFT:\n",
    "                print(\"left\")\n",
    "            if event.key == pygame.K_RIGHT:\n",
    "                print(\"right\")\n",
    "\n",
    "        if event.type == pygame.QUIT:\n",
    "            exit()"
   ],
   "id": "7d79b9a2916bcf1b"
  },
  {
   "metadata": {},
   "cell_type": "markdown",
   "source": "Mouse events as well as its position can also be retrieved from pygame.event.\n",
   "id": "d44df4e98cbb68e5"
  },
  {
   "metadata": {},
   "cell_type": "code",
   "outputs": [],
   "execution_count": null,
   "source": [
    "import pygame\n",
    "\n",
    "pygame.init()\n",
    "window = pygame.display.set_mode((640, 480))\n",
    "\n",
    "while True:\n",
    "    for event in pygame.event.get():\n",
    "        if event.type == pygame.MOUSEBUTTONDOWN:\n",
    "            print(\"you pressed the button number\", event.button, \"at location\", event.pos)\n",
    "\n",
    "        if event.type == pygame.QUIT:\n",
    "            exit()"
   ],
   "id": "f0fb32b4ebd3d8a9"
  },
  {
   "metadata": {},
   "cell_type": "markdown",
   "source": [
    "#### Task 1\n",
    "\n",
    "Modify the Dino class so that it can be controlled by left/right arrow keys\n",
    "- `left` moves the Dino towards left for 5 pixels\n",
    "- `right` moves the Dino towards right for 5 pixels\n",
    "\n",
    "Challenge:\n",
    "How to keep the dino moving when a key is pressed?"
   ],
   "id": "58026871c00f9d30"
  },
  {
   "metadata": {},
   "cell_type": "code",
   "outputs": [],
   "execution_count": null,
   "source": [
    "def useless_function:\n",
    "    # the pygame code creates some weird warning messages in pycharm.\n",
    "    pass"
   ],
   "id": "9bd677f3137dd01a"
  },
  {
   "metadata": {},
   "cell_type": "markdown",
   "source": [
    "---\n",
    "\n",
    "### An instance of the same class as an argument to a method\n",
    "\n",
    "Last week we showed examples of how you can pass objects as arguments into a function or return it inside a function.\n",
    "Let's say now we have a class `Person`. And to compare the age of one `Person` with another `Person`, we can write a method to support it."
   ],
   "id": "1799bea906fc93f"
  },
  {
   "metadata": {
    "ExecuteTime": {
     "end_time": "2025-06-03T10:08:06.193135Z",
     "start_time": "2025-06-03T10:08:06.174160Z"
    }
   },
   "cell_type": "code",
   "source": [
    "class Person:\n",
    "\n",
    "    def __init__(self, name: str, year_of_birth: int):\n",
    "        self.name = name\n",
    "        self.year_of_birth = year_of_birth\n",
    "\n",
    "    def older_than(self, another: \"Person\"):\n",
    "        return self.year_of_birth < another.year_of_birth"
   ],
   "id": "f08f1006227dca64",
   "outputs": [],
   "execution_count": 26
  },
  {
   "metadata": {},
   "cell_type": "markdown",
   "source": [
    "Here the object which the method is called on is referred to as self, while the other Person object is another.\n",
    "Notice that type hints must be enclosed in quotation marks if the parameter is of the same type as the class itself!"
   ],
   "id": "d7cb0da04bb217ff"
  },
  {
   "metadata": {
    "ExecuteTime": {
     "end_time": "2025-06-03T10:08:55.871545Z",
     "start_time": "2025-06-03T10:08:55.868300Z"
    }
   },
   "cell_type": "code",
   "source": [
    "jan =  Person(\"Jan\", 1990)\n",
    "john = Person(\"John\", 2000)\n",
    "\n",
    "print(jan.older_than(john))\n",
    "print(john.older_than(jan))"
   ],
   "id": "503427780d5043f",
   "outputs": [
    {
     "name": "stdout",
     "output_type": "stream",
     "text": [
      "True\n",
      "False\n"
     ]
    }
   ],
   "execution_count": 27
  },
  {
   "metadata": {},
   "cell_type": "markdown",
   "source": [
    "#### Task 2\n",
    "Based on task 1, now create two Dino instances Dino1 and Dino2.\n",
    "- Dino1 is controlled by left/right keys while Dino2 is controlled by A/D keys.\n",
    "- Change the Dino class so that you can compare the x position of Dino1 with the x position of Dino2. The one that is closer to the goal (right edge of the screen) get tinted red.\n",
    "\n",
    "---\n",
    "\n",
    "### Encapsulation\n",
    "\n",
    "Hiding attributes from outside access is called encapsulation. Let's take a look at this following example.\n",
    "\n",
    "\n",
    "\n",
    "\n"
   ],
   "id": "917e07fec60a1270"
  },
  {
   "metadata": {
    "ExecuteTime": {
     "end_time": "2025-06-03T10:10:24.140295Z",
     "start_time": "2025-06-03T10:10:24.120387Z"
    }
   },
   "cell_type": "code",
   "source": [
    "class CreditCard:\n",
    "    # the attribute number is private, while the attribute name is accessible\n",
    "    def __init__(self, number: str, name: str):\n",
    "        self.__number = number\n",
    "        self.name = name\n",
    "\n",
    "# you can access and manipulate the attribute name freely\n",
    "card = CreditCard(\"123456\",\"Mr. Nobody\")\n",
    "print(card.name)\n",
    "card.name = \"Mr. Somebody\"\n",
    "print(card.name)\n",
    "\n",
    "# but not the number\n",
    "print(card.__number)\n"
   ],
   "id": "c58935a3cb4fadf7",
   "outputs": [
    {
     "name": "stdout",
     "output_type": "stream",
     "text": [
      "Mr. Nobody\n",
      "Mr. Somebody\n"
     ]
    },
    {
     "ename": "AttributeError",
     "evalue": "'CreditCard' object has no attribute '__number'",
     "output_type": "error",
     "traceback": [
      "\u001B[0;31m---------------------------------------------------------------------------\u001B[0m",
      "\u001B[0;31mAttributeError\u001B[0m                            Traceback (most recent call last)",
      "Cell \u001B[0;32mIn[28], line 14\u001B[0m\n\u001B[1;32m     11\u001B[0m \u001B[38;5;28mprint\u001B[39m(card\u001B[38;5;241m.\u001B[39mname)\n\u001B[1;32m     13\u001B[0m \u001B[38;5;66;03m# but not the number\u001B[39;00m\n\u001B[0;32m---> 14\u001B[0m \u001B[38;5;28mprint\u001B[39m(\u001B[43mcard\u001B[49m\u001B[38;5;241;43m.\u001B[39;49m\u001B[43m__number\u001B[49m)\n",
      "\u001B[0;31mAttributeError\u001B[0m: 'CreditCard' object has no attribute '__number'"
     ]
    }
   ],
   "execution_count": 28
  },
  {
   "metadata": {},
   "cell_type": "markdown",
   "source": "To access and change the number attribute, we can write a getter method and a setter method for it.",
   "id": "e54140275bbabe2e"
  },
  {
   "metadata": {
    "ExecuteTime": {
     "end_time": "2025-06-03T10:12:40.418998Z",
     "start_time": "2025-06-03T10:12:40.399020Z"
    }
   },
   "cell_type": "code",
   "source": [
    "class CreditCard:\n",
    "    # the attribute number is private, while the attribute name is accessible\n",
    "    def __init__(self, number: str, name: str):\n",
    "        self.__number = number\n",
    "        self.name = name\n",
    "\n",
    "    def get_number(self):\n",
    "        return self.__number\n",
    "\n",
    "    def set_number(self, number:str):\n",
    "        if len(number) < 6:\n",
    "            raise ValueError(\"Credit Card Number shall be at least 6 digits.\")\n",
    "        else:\n",
    "            self.__number = number\n",
    "\n",
    "card = CreditCard(\"654321\",\"Mr. Somebody\")\n",
    "print(card.get_number())\n",
    "card.set_number(\"000000\")\n",
    "print(card.get_number())\n",
    "card.set_number(\"333\")"
   ],
   "id": "12e28b3728b9a2b6",
   "outputs": [
    {
     "name": "stdout",
     "output_type": "stream",
     "text": [
      "654321\n",
      "000000\n"
     ]
    },
    {
     "ename": "ValueError",
     "evalue": "Credit Card Number shall be at least 6 digits.",
     "output_type": "error",
     "traceback": [
      "\u001B[0;31m---------------------------------------------------------------------------\u001B[0m",
      "\u001B[0;31mValueError\u001B[0m                                Traceback (most recent call last)",
      "Cell \u001B[0;32mIn[32], line 20\u001B[0m\n\u001B[1;32m     18\u001B[0m card\u001B[38;5;241m.\u001B[39mset_number(\u001B[38;5;124m\"\u001B[39m\u001B[38;5;124m000000\u001B[39m\u001B[38;5;124m\"\u001B[39m)\n\u001B[1;32m     19\u001B[0m \u001B[38;5;28mprint\u001B[39m(card\u001B[38;5;241m.\u001B[39mget_number())\n\u001B[0;32m---> 20\u001B[0m \u001B[43mcard\u001B[49m\u001B[38;5;241;43m.\u001B[39;49m\u001B[43mset_number\u001B[49m\u001B[43m(\u001B[49m\u001B[38;5;124;43m\"\u001B[39;49m\u001B[38;5;124;43m333\u001B[39;49m\u001B[38;5;124;43m\"\u001B[39;49m\u001B[43m)\u001B[49m\n",
      "Cell \u001B[0;32mIn[32], line 12\u001B[0m, in \u001B[0;36mCreditCard.set_number\u001B[0;34m(self, number)\u001B[0m\n\u001B[1;32m     10\u001B[0m \u001B[38;5;28;01mdef\u001B[39;00m \u001B[38;5;21mset_number\u001B[39m(\u001B[38;5;28mself\u001B[39m, number:\u001B[38;5;28mstr\u001B[39m):\n\u001B[1;32m     11\u001B[0m     \u001B[38;5;28;01mif\u001B[39;00m \u001B[38;5;28mlen\u001B[39m(number) \u001B[38;5;241m<\u001B[39m \u001B[38;5;241m6\u001B[39m:\n\u001B[0;32m---> 12\u001B[0m         \u001B[38;5;28;01mraise\u001B[39;00m \u001B[38;5;167;01mValueError\u001B[39;00m(\u001B[38;5;124m\"\u001B[39m\u001B[38;5;124mCredit Card Number shall be at least 6 digits.\u001B[39m\u001B[38;5;124m\"\u001B[39m)\n\u001B[1;32m     13\u001B[0m     \u001B[38;5;28;01melse\u001B[39;00m:\n\u001B[1;32m     14\u001B[0m         \u001B[38;5;28mself\u001B[39m\u001B[38;5;241m.\u001B[39m__number \u001B[38;5;241m=\u001B[39m number\n",
      "\u001B[0;31mValueError\u001B[0m: Credit Card Number shall be at least 6 digits."
     ]
    }
   ],
   "execution_count": 32
  },
  {
   "metadata": {},
   "cell_type": "markdown",
   "source": "There is also a native python way to do this. The following code does exact the same thing as the code above but uses different syntax. Also notice that in this way, when you want to get/set your private attribute, you no longer use a method to get/set the private attribute. Instead, you get/set the private attribute as a normal attribute, although it actually runs the setter/getter that you define.",
   "id": "7dd5e66c84fa2901"
  },
  {
   "metadata": {
    "ExecuteTime": {
     "end_time": "2025-06-03T10:18:32.362342Z",
     "start_time": "2025-06-03T10:18:32.355998Z"
    }
   },
   "cell_type": "code",
   "source": [
    "class CreditCard:\n",
    "    # the attribute number is private, while the attribute name is accessible\n",
    "    def __init__(self, number: str, name: str):\n",
    "        self.__number = number\n",
    "        self.name = name\n",
    "\n",
    "    @property # this thing is called decorator in python, @property is the signal for a setter.\n",
    "    def number(self):\n",
    "        print(\"Getter\")\n",
    "        return self.__number\n",
    "\n",
    "    @number.setter\n",
    "    def number(self, number:str):\n",
    "        print(\"setter\")\n",
    "        if len(number) < 6:\n",
    "            raise ValueError(\"Credit Card Number shall be at least 6 digits.\")\n",
    "        else:\n",
    "            self.__number = number\n",
    "\n",
    "card = CreditCard(\"111111\",\"Ms. Somebody\")\n",
    "print(card.number)\n",
    "card.number = \"222222\" # the setter allows you to edit the attribute with normal syntax\n",
    "print(card.number)\n",
    "#card.number = \"333\""
   ],
   "id": "51a0fb8735a8717c",
   "outputs": [
    {
     "name": "stdout",
     "output_type": "stream",
     "text": [
      "Getter\n",
      "111111\n",
      "setter\n",
      "Getter\n",
      "222222\n"
     ]
    }
   ],
   "execution_count": 36
  },
  {
   "metadata": {},
   "cell_type": "markdown",
   "source": [
    "For now you don't have to use this method to define your getters and setters, but it's good to know that they exist, so if you see it appearing in some code online or the result from chatgpt, you understand what it is doing.\n",
    "\n",
    "---"
   ],
   "id": "7315cdd4b412611c"
  },
  {
   "metadata": {},
   "cell_type": "markdown",
   "source": [
    "### Inheritance\n",
    "The parent class doesn't need any special syntax, we can just define it as a normal class.\n",
    "The syntax for a child class simply involves adding the parent class name in parentheses on the header line. For the child class to have access to the attributes declared in the parent class you need to init the parent class inside the child class with `super().__init__()`.\n"
   ],
   "id": "311a7ae67a0b12bd"
  },
  {
   "metadata": {
    "ExecuteTime": {
     "end_time": "2025-06-03T10:24:58.342990Z",
     "start_time": "2025-06-03T10:24:58.337621Z"
    }
   },
   "cell_type": "code",
   "source": [
    "class Person:\n",
    "\n",
    "   def __init__(self, name: str, email: str):\n",
    "       self.name = name\n",
    "       self.email = email\n",
    "\n",
    "   def set_email(self, email: str):\n",
    "       self.email = email\n",
    "\n",
    "\n",
    "class Student(Person): # put parent class here\n",
    "\n",
    "   def __init__(self, name: str, id: str, email: str, credits: str):\n",
    "       super().__init__(name, email) # init Person so that we don't need to repeat name/email assignment\n",
    "       self.id = id\n",
    "       self.credits = credits\n",
    "\n",
    "\n",
    "class Teacher(Person):\n",
    "\n",
    "   def __init__(self, name: str, email: str, room: str, teaching_years: int):\n",
    "       # super().__init__(name, email) # same here\n",
    "       self.room = room\n",
    "       self.teaching_years = teaching_years\n",
    "\n",
    "s1 = Student(\"Smart Student\", \"1234\", \"smart@example.com\", 0)\n",
    "# s1.set_email(\"smart_student@example.com\")\n",
    "print(s1.email)\n",
    "\n",
    "t1 = Teacher(\"The Teacher\", \"teacher@example.com\", \"A123\", 2)\n",
    "t1.set_email(\"the_teacher@example.com\")\n",
    "print(t1.email)\n",
    "\n",
    "# see how both cases automatically get email attribute through parent class Person"
   ],
   "id": "d8fd17684a00cba3",
   "outputs": [
    {
     "name": "stdout",
     "output_type": "stream",
     "text": [
      "smart@example.com\n",
      "the_teacher@example.com\n"
     ]
    }
   ],
   "execution_count": 41
  },
  {
   "metadata": {},
   "cell_type": "markdown",
   "source": [
    "A derived class inherits all traits from its base class. Those traits are directly accessible in the derived class, unless they have been defined as private in the base class (with two underscores before the name of the trait).\n",
    "\n",
    "Let's add a private attribute `__isVampire` to the class `Person`. See the following code returns an error if we want to create a method in the `Student` class to check if the student is a vampire or not."
   ],
   "id": "e2b5774b64288b18"
  },
  {
   "metadata": {
    "ExecuteTime": {
     "end_time": "2025-06-02T19:45:38.132557Z",
     "start_time": "2025-06-02T19:45:38.115768Z"
    }
   },
   "cell_type": "code",
   "source": [
    "import random\n",
    "\n",
    "class Person:\n",
    "\n",
    "   def __init__(self, name: str, email: str):\n",
    "       self.name = name\n",
    "       self.email = email\n",
    "       self.__isVampire = random.choice([True, False])\n",
    "       # this is a private attribute, no one can know who is a vampire\n",
    "\n",
    "   def set_email(self, email: str):\n",
    "       self.email = email\n",
    "\n",
    "\n",
    "class Student(Person):\n",
    "\n",
    "    def __init__(self, name: str, id: str, email: str, credits: str):\n",
    "       super().__init__(name, email)\n",
    "       self.id = id\n",
    "       self.credits = credits\n",
    "\n",
    "    def is_vampire(self):\n",
    "       return self.__isVampire\n",
    "\n",
    "\n",
    "s2 = Student(\"A Student\", \"1234\", \"a_student@example.com\", 0)\n",
    "s2.isVampire()"
   ],
   "id": "f1efabf6eaa95b1",
   "outputs": [
    {
     "ename": "AttributeError",
     "evalue": "'Student' object has no attribute 'isVampire'",
     "output_type": "error",
     "traceback": [
      "\u001B[0;31m---------------------------------------------------------------------------\u001B[0m",
      "\u001B[0;31mAttributeError\u001B[0m                            Traceback (most recent call last)",
      "Cell \u001B[0;32mIn[16], line 36\u001B[0m\n\u001B[1;32m     34\u001B[0m s1 \u001B[38;5;241m=\u001B[39m Student(\u001B[38;5;124m\"\u001B[39m\u001B[38;5;124mSmart Student\u001B[39m\u001B[38;5;124m\"\u001B[39m, \u001B[38;5;124m\"\u001B[39m\u001B[38;5;124m1234\u001B[39m\u001B[38;5;124m\"\u001B[39m, \u001B[38;5;124m\"\u001B[39m\u001B[38;5;124msmart@example.com\u001B[39m\u001B[38;5;124m\"\u001B[39m, \u001B[38;5;241m0\u001B[39m)\n\u001B[1;32m     35\u001B[0m t1 \u001B[38;5;241m=\u001B[39m Teacher(\u001B[38;5;124m\"\u001B[39m\u001B[38;5;124mThe Teacher\u001B[39m\u001B[38;5;124m\"\u001B[39m, \u001B[38;5;124m\"\u001B[39m\u001B[38;5;124mteacher@example.com\u001B[39m\u001B[38;5;124m\"\u001B[39m, \u001B[38;5;124m\"\u001B[39m\u001B[38;5;124mA123\u001B[39m\u001B[38;5;124m\"\u001B[39m, \u001B[38;5;241m2\u001B[39m)\n\u001B[0;32m---> 36\u001B[0m \u001B[43ms1\u001B[49m\u001B[38;5;241;43m.\u001B[39;49m\u001B[43misVampire\u001B[49m()\n",
      "\u001B[0;31mAttributeError\u001B[0m: 'Student' object has no attribute 'isVampire'"
     ]
    }
   ],
   "execution_count": 16
  },
  {
   "metadata": {},
   "cell_type": "markdown",
   "source": "Instead we can make this attribute `protected`, so that it is accessible from inside the sub-classes but not from outside.",
   "id": "258597a4aa1f5e6b"
  },
  {
   "metadata": {
    "ExecuteTime": {
     "end_time": "2025-06-03T10:27:34.166611Z",
     "start_time": "2025-06-03T10:27:34.159754Z"
    }
   },
   "cell_type": "code",
   "source": [
    "import random\n",
    "\n",
    "class Person:\n",
    "\n",
    "   def __init__(self, name: str, email: str):\n",
    "       self.name = name\n",
    "       self.email = email\n",
    "       self._isVampire = random.choice([True, False]) # now the attribute is protected\n",
    "\n",
    "   def set_email(self, email: str):\n",
    "       self.email = email\n",
    "\n",
    "\n",
    "class Student(Person):\n",
    "\n",
    "    def __init__(self, name: str, id: str, email: str, credits: str):\n",
    "       super().__init__(name, email)\n",
    "       self.id = id\n",
    "       self.credits = credits\n",
    "\n",
    "    def act(self):\n",
    "       if self._isVampire:\n",
    "           print(f\"{self.name} attacks the teacher.\")\n",
    "       else:\n",
    "           print(f\"{self.name} acts like a student.\")\n",
    "\n",
    "\n",
    "class Teacher(Person):\n",
    "\n",
    "    def __init__(self, name: str, email: str, room: str, teaching_years: int):\n",
    "       super().__init__(name, email)\n",
    "       self.room = room\n",
    "       self.teaching_years = teaching_years\n",
    "\n",
    "    def act(self):\n",
    "       if self._isVampire:\n",
    "           print(f\"{self.name} attacks a student.\")\n",
    "       else:\n",
    "           print(f\"{self.name} acts like a teacher.\")\n",
    "\n",
    "s1 = Student(\"A tall Student\", \"1234\", \"smart@example.com\", 0)\n",
    "s2 = Student(\"A thin Student\", \"1234\", \"smart@example.com\", 0)\n",
    "t1 = Teacher(\"The Teacher\", \"teacher@example.com\", \"A123\", 2)\n",
    "s1.act()\n",
    "s2.act()\n",
    "t1.act()"
   ],
   "id": "ecfdc76a8073c8f2",
   "outputs": [
    {
     "name": "stdout",
     "output_type": "stream",
     "text": [
      "A tall Student acts like a student.\n",
      "A thin Student acts like a student.\n",
      "The Teacher attacks a student.\n"
     ]
    }
   ],
   "execution_count": 42
  },
  {
   "metadata": {},
   "cell_type": "markdown",
   "source": [
    "\n",
    "\n",
    "\n",
    "\n",
    "#### Task 3 Dino Family\n",
    "\n",
    "Based on your result from Task 1, use the Dino class as parent class and create one sub class `DinoKid`.\n",
    "- `DinoKid` has a smaller image size than `Dino`.\n",
    "- `DinoKid` has a special method `.follow()`. It takes a `Dino` object as parameter and updates the kid's position behind the `Dino`.\n",
    "- Your left/right key shall keep controlling the instance of your `Dino` class, and the `DinoKid` just follows it."
   ],
   "id": "cd6de6441ecc0620"
  }
 ],
 "metadata": {
  "kernelspec": {
   "display_name": "Python 3",
   "language": "python",
   "name": "python3"
  },
  "language_info": {
   "codemirror_mode": {
    "name": "ipython",
    "version": 2
   },
   "file_extension": ".py",
   "mimetype": "text/x-python",
   "name": "python",
   "nbconvert_exporter": "python",
   "pygments_lexer": "ipython2",
   "version": "2.7.6"
  }
 },
 "nbformat": 4,
 "nbformat_minor": 5
}
