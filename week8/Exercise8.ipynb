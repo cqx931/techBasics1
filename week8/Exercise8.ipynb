{
 "cells": [
  {
   "metadata": {},
   "cell_type": "markdown",
   "source": [
    "### Defining your own classes\n",
    "\n",
    "A class is defined with the keyword `class`. At the very beginning of a class definition, we need to define a special constructor method with the name `.__init__()`. The first parameter in a constructor definition is always named `self`. This refers to the object instance itself. After `self` you can pass other parameters that will be needed to construct an instance of the class.\n",
    "\n",
    "The assignment `self.balance = balance` assigns the balance received as an argument to the balance attribute of the object. It is a common convention to use the same variable names for the parameters and the data attributes defined in a constructor, but the variable names `self.balance` and `balance` here refer to two different variables:\n",
    "\n",
    "- `self.balance` is an attribute of the object. Each BankAccount object has its own balance.\n",
    "\n",
    "- The variable `balance` is a parameter in the constructor method `.__init__()`. Its value is set to the value passed as an argument to the method as the constructor is called"
   ],
   "id": "55da68b21f43ecb2"
  },
  {
   "metadata": {
    "ExecuteTime": {
     "end_time": "2025-05-26T18:16:20.828288Z",
     "start_time": "2025-05-26T18:16:20.818326Z"
    }
   },
   "cell_type": "code",
   "source": [
    "class BankAccount:\n",
    "\n",
    "    # The constructor\n",
    "    def __init__(self, first_name:str, last_name:str, balance:float):\n",
    "        self.first_name = first_name\n",
    "        self.last_name = last_name\n",
    "        self.balance = float(balance)"
   ],
   "id": "c1592b81d5c045f5",
   "outputs": [
    {
     "name": "stdout",
     "output_type": "stream",
     "text": [
      "1000.0\n",
      "2000.0\n",
      "1100.0\n",
      "2000.0\n"
     ]
    }
   ],
   "execution_count": 18
  },
  {
   "metadata": {},
   "cell_type": "markdown",
   "source": "Now that we have the class defined. We can create instances out of it by calling the",
   "id": "3263beb895427ba0"
  },
  {
   "metadata": {},
   "cell_type": "code",
   "outputs": [],
   "execution_count": null,
   "source": [
    "\n",
    "peters_account = BankAccount(\"Peter\", \"Python\", 1000)\n",
    "paulas_account = BankAccount(\"Paula\", \"Python\", 2000)\n",
    "\n",
    "print(peters_account.balance)\n",
    "print(paulas_account.balance)\n",
    "\n",
    "# You can update the attribute of an instance like a normal variable\n",
    "peters_account.balance += 100\n",
    "\n",
    "print(peters_account.balance)\n",
    "print(paulas_account.balance)"
   ],
   "id": "bf6cf21c228790d9"
  },
  {
   "metadata": {},
   "cell_type": "markdown",
   "source": [
    "\n",
    "\n",
    "Objects formed from your own class definitions are no different from any other Python objects. They can be passed as arguments and return values just like any other object. We could, for example, write some functions for working with bank accounts:"
   ],
   "id": "8a7fcbe49fa23326"
  },
  {
   "metadata": {
    "ExecuteTime": {
     "end_time": "2025-05-26T19:14:43.107050Z",
     "start_time": "2025-05-26T19:14:43.099967Z"
    }
   },
   "cell_type": "code",
   "source": [
    "# this function creates a new bank account object and returns it\n",
    "def open_account(name:str):\n",
    "    sections = name.split(\" \")\n",
    "    new_account =  BankAccount(sections[0], sections[1], 0)\n",
    "    return new_account\n",
    "\n",
    "# this function adds the amount passed as an argument to the balance of the bank account also passed as an argument\n",
    "def deposit_money_on_account(account: BankAccount, amount: float):\n",
    "    account.balance += amount\n",
    "\n",
    "peters_account = open_account(\"Peter Python\")\n",
    "print(peters_account.balance)\n",
    "\n",
    "deposit_money_on_account(peters_account, 500)\n",
    "\n",
    "print(peters_account.balance)"
   ],
   "id": "6f89ffb2e59d0583",
   "outputs": [
    {
     "name": "stdout",
     "output_type": "stream",
     "text": [
      "0.0\n",
      "500.0\n"
     ]
    }
   ],
   "execution_count": 26
  },
  {
   "metadata": {},
   "cell_type": "markdown",
   "source": "A class can has its own functions, they are called **methods**. They can be called by using `.method_name()`. Even though we can directly change the attributes of an object, it's not aligned with the principle of object-oriented programming to do so. The better way to handle this is to create a method to modify the attribute, so the attribute is never directly accessible. In this way, we can have more control of the value, one example is to make sure that the balance never falls below zero.",
   "id": "9a2abbaa362fc8e4"
  },
  {
   "metadata": {
    "ExecuteTime": {
     "end_time": "2025-05-26T19:12:50.954149Z",
     "start_time": "2025-05-26T19:12:50.949942Z"
    }
   },
   "cell_type": "code",
   "source": [
    "class BankAccount:\n",
    "\n",
    "    # The constructor\n",
    "    def __init__(self, first_name:str, last_name:str, balance:float):\n",
    "        self.first_name = first_name\n",
    "        self.last_name = last_name\n",
    "        self.balance = float(balance)\n",
    "\n",
    "    def withdraw(self, amount:float): # notice that you always need to pass self to a method\n",
    "        if amount <= self.balance:\n",
    "            self.balance -= amount\n",
    "            return True\n",
    "        return False\n",
    "\n",
    "peters_account = BankAccount(\"Peter\", \"Python\", 1500)\n",
    "\n",
    "if peters_account.withdraw(1000):\n",
    "    print(\"The withdrawal was successful, the balance is now\", peters_account.balance)\n",
    "else:\n",
    "    print(\"The withdrawal was unsuccessful, the balance is insufficient\")\n",
    "\n",
    "if peters_account.withdraw(1000):\n",
    "    print(\"The withdrawal was successful, the balance is now\", peters_account.balance)\n",
    "else:\n",
    "    print(\"The withdrawal was unsuccessful, the balance is insufficient\")\n"
   ],
   "id": "4f6ce3ce4290b004",
   "outputs": [
    {
     "name": "stdout",
     "output_type": "stream",
     "text": [
      "The withdrawal was successful, the balance is now 500.0\n",
      "The withdrawal was unsuccessful, the balance is insufficient\n"
     ]
    }
   ],
   "execution_count": 25
  },
  {
   "metadata": {},
   "cell_type": "markdown",
   "source": "What if you forget putting `self` in your method definition?",
   "id": "38bec40a9d18aaf9"
  },
  {
   "metadata": {
    "ExecuteTime": {
     "end_time": "2025-05-26T21:00:51.933002Z",
     "start_time": "2025-05-26T21:00:51.928281Z"
    }
   },
   "cell_type": "code",
   "source": [
    "class BadBankAccount:\n",
    "\n",
    "    # The constructor\n",
    "    def __init__(self, first_name:str, last_name:str, balance:float):\n",
    "        self.first_name = first_name\n",
    "        self.last_name = last_name\n",
    "        self.balance = float(balance)\n",
    "\n",
    "    def get_statement():\n",
    "        print(\"This is a bad bank account.\")\n",
    "\n",
    "account = BadBankAccount(\"someone\", \"surname\", 7000)\n",
    "\n",
    "# You won't get error messages unless you run the method\n",
    "# account.get_statement()\n",
    "# The line above is basically translated to -> BadBankAccount.get_statement(account)\n"
   ],
   "id": "12d479f0a741f597",
   "outputs": [],
   "execution_count": 41
  },
  {
   "metadata": {},
   "cell_type": "markdown",
   "source": "By default when you print an object, the information you get is not super helpful.",
   "id": "3e49dd99e4c0ab4a"
  },
  {
   "metadata": {
    "ExecuteTime": {
     "end_time": "2025-05-26T19:37:30.745240Z",
     "start_time": "2025-05-26T19:37:30.741089Z"
    }
   },
   "cell_type": "code",
   "source": "print(peters_account)",
   "id": "e16756fde8bf7c9a",
   "outputs": [
    {
     "name": "stdout",
     "output_type": "stream",
     "text": [
      "<__main__.BankAccount object at 0x105c22b30>\n"
     ]
    }
   ],
   "execution_count": 35
  },
  {
   "metadata": {},
   "cell_type": "markdown",
   "source": "But we can manually define it with `__str__()` method so that we can get more useful information about the object when we print it.",
   "id": "2dc53c68d26f142e"
  },
  {
   "metadata": {
    "ExecuteTime": {
     "end_time": "2025-05-26T20:57:03.436993Z",
     "start_time": "2025-05-26T20:57:03.429028Z"
    }
   },
   "cell_type": "code",
   "source": [
    "class BetterBankAccount:\n",
    "\n",
    "    # The constructor\n",
    "    def __init__(self, first_name:str, last_name:str, balance:float):\n",
    "        self.first_name = first_name\n",
    "        self.last_name = last_name\n",
    "        self.balance = float(balance)\n",
    "\n",
    "    def __str__(self):\n",
    "        return f\"The account belongs to {self.first_name} {self.last_name}, the current balance is {self.balance}.\"\n",
    "\n",
    "new_account = BetterBankAccount(\"New\", \"User\", 100)\n",
    "print(new_account)\n",
    "\n",
    "str_rep = str(new_account) # the __str__() method also influences the result you get from the built-in str() function\n",
    "print(str_rep)"
   ],
   "id": "bdbce544f26eff",
   "outputs": [
    {
     "name": "stdout",
     "output_type": "stream",
     "text": [
      "The account belongs to New User, the current balance is 100.0.\n",
      "The account belongs to New User, the current balance is 100.0.\n"
     ]
    }
   ],
   "execution_count": 40
  },
  {
   "metadata": {},
   "cell_type": "markdown",
   "source": "One rather similar to the `__str__` method is the `__repr__` method. Its purpose is to provide a technical representation of the state of the object. We will come across this method later.",
   "id": "1a95657ae697f812"
  },
  {
   "metadata": {},
   "cell_type": "markdown",
   "source": [
    "#### Task 1\n",
    "Create a class named `MensaCard`. This class should allow the creation of a new card with a name (str) and an initial balance (float).\n",
    "`card = MensaCard(\"David\", 50)`\n",
    "\n",
    "It shall have three functions:\n",
    "- `.__str__()`: returns the current balance in the format \"The balance is 50.0 euros.\"\n",
    "- `.eat_lunch(option)` accepts a string argument that is either 'A' or 'B'.\n",
    "    - Option A always subtracts 2.3 euro from the balance, while option B subtracts 3.8 euro from the balance.\n",
    "    - If the balance is enough to eat the lunch, return `True` and print \"{name} eats a lunch Option {A/B}\". If the balance is not enough to eat the given option, return `False` and prompt the user to deposit funds.\n",
    "- `deposit_money(amount)` increases the balance on the card by the specified amount.\n",
    "\n",
    "Create two objects from the MensaCard class. Use them to perform actions such as eating lunch and depositing money, while regularly checking and printing the balance.\n",
    "\n",
    "*Challenge:\n",
    "Raise a `ValueError` if one attempts to deposit a negative amount (e.g., -10).\n",
    "\n",
    "\n"
   ],
   "id": "8b872b4ad70070b9"
  },
  {
   "metadata": {},
   "cell_type": "code",
   "outputs": [],
   "execution_count": null,
   "source": [
    "class MensaCard:\n",
    "    def __init__(self):\n",
    "        pass"
   ],
   "id": "24e7537fe66d6fbf"
  },
  {
   "metadata": {},
   "cell_type": "markdown",
   "source": [
    "---\n",
    "### Composition\n",
    "We can create a class that contain objects of other classes. This allows us to design more complicated objects.\n",
    "\n",
    "Let's take the example of a car. A car has four wheels. So I can have a class called `Wheel` and a class called `Car` that always have four instances of the `Wheel` class:"
   ],
   "id": "a82d12ef5778ed2"
  },
  {
   "metadata": {
    "ExecuteTime": {
     "end_time": "2025-05-26T21:07:20.157013Z",
     "start_time": "2025-05-26T21:07:20.147025Z"
    }
   },
   "cell_type": "code",
   "source": [
    "class Wheel:\n",
    "    def __init__(self, position):\n",
    "        self.position = position  # e.g., \"front-left\", \"rear-right\"\n",
    "\n",
    "    def rotate(self):\n",
    "        print(f\"The {self.position} wheel is rotating.\")\n",
    "\n",
    "class Car:\n",
    "    def __init__(self):\n",
    "        self.wheels = [\n",
    "            Wheel(\"front-left\"),\n",
    "            Wheel(\"front-right\"),\n",
    "            Wheel(\"rear-left\"),\n",
    "            Wheel(\"rear-right\")\n",
    "        ]\n",
    "\n",
    "    def drive(self):\n",
    "        print(\"Car is driving. Rotating all wheels:\")\n",
    "        for wheel in self.wheels:\n",
    "            wheel.rotate()\n",
    "\n",
    "my_car = Car()\n",
    "my_car.drive()"
   ],
   "id": "14c5d0b1e8233788",
   "outputs": [
    {
     "name": "stdout",
     "output_type": "stream",
     "text": [
      "Car is driving. Rotating all wheels:\n",
      "The front-left wheel is rotating.\n",
      "The front-right wheel is rotating.\n",
      "The rear-left wheel is rotating.\n",
      "The rear-right wheel is rotating.\n"
     ]
    }
   ],
   "execution_count": 42
  },
  {
   "metadata": {},
   "cell_type": "markdown",
   "source": [
    "#### Task 2\n",
    "Let's try to translate some concepts from our escape game into the style of object-oriented programming.\n",
    "\n",
    "1. Create your own class `Locations` using the pre-defined class `Item`.\n",
    "    - One location shall be initialised with\n",
    "        - a name\n",
    "        - a list of items\n",
    "    - The class `Location` has one method: `.get_all_items()`, which returns all items in the room.\n",
    "\n",
    "2. Define one function called `check_location(location)`, it lists all items from the location by calling `.get_all_items()`\n",
    "\n",
    "3. Init one Location `bedroom` and fill it with items."
   ],
   "id": "22c28e16d8bb977a"
  },
  {
   "metadata": {},
   "cell_type": "code",
   "outputs": [],
   "execution_count": null,
   "source": [
    "class Item:\n",
    "\n",
    "    # constructor\n",
    "    def __init__(self, name, category, description):\n",
    "        # attributes\n",
    "        self.name = name\n",
    "        self.category = category\n",
    "        self.description = description\n",
    "        self.used = False # default values\n",
    "\n",
    "    # method\n",
    "    def use(self):\n",
    "        # it does sth depend on the type\n",
    "        self.used = True\n",
    "\n",
    "\n",
    "class Location:\n",
    "    def __init__(self, name, list_of_items):\n",
    "        pass\n",
    "\n",
    "def check_location(l:Location):\n",
    "    pass\n",
    "\n",
    "\n",
    "list_of_items_in_bedroom = []\n",
    "bedroom = Location(\"bedroom\", list_of_items_in_bedroom)\n",
    "\n"
   ],
   "id": "bb42c9f874c93d25"
  },
  {
   "metadata": {},
   "cell_type": "markdown",
   "source": [
    "---\n",
    "### Pygame\n",
    "\n",
    "`Pygame` is a Python library for programming games. It helps you create graphical elements, handle events from the keyboard and the mouse, and implement other features necessary in games.\n",
    "\n",
    "So far we have been using python built-in modules (ex: random, time...), which we can just import without extra installations. When using a library, we can import it as a built-in module, but before that we first need to install it first.\n",
    "\n",
    "1. Using PyCharm\n",
    "    Icons in the lower left corner of your window -> Python Packages -> Search for more packages\n",
    "    *Make sure the installed environment matches with the current interpreter (lower right corner)\n",
    "\n",
    "2. Install from Terminal\n",
    "    `pip3 install pygame` (If you have Python version 3.4 or later, PIP is included by default.)\n",
    "   This installs pygame package globally to your system.\n"
   ],
   "id": "26cee55fde6ea0bb"
  },
  {
   "metadata": {},
   "cell_type": "markdown",
   "source": [
    "*Jupyter Notebook doesn't work with Pygame so well, so I would recommend you to copy paste the code into a standalone python file where you can run it directly. It does show you the window if you hit the run button. But You might need to force quite to close it.\n",
    "\n",
    "Let's first create a black screen with pygame."
   ],
   "id": "19994c6001acee43"
  },
  {
   "cell_type": "code",
   "id": "initial_id",
   "metadata": {
    "collapsed": true,
    "ExecuteTime": {
     "end_time": "2025-05-26T21:39:30.807810Z",
     "start_time": "2025-05-26T21:39:28.723096Z"
    }
   },
   "source": [
    "import pygame\n",
    "\n",
    "pygame.display.init()\n",
    "\n",
    "# create the display object of specific dimension (X, Y).\n",
    "window = pygame.display.set_mode((640, 480))\n",
    "\n",
    "# just fill it with a black screen first\n",
    "window.fill((0,0,0))\n",
    "\n",
    "# paint screen one time\n",
    "pygame.display.flip()\n",
    "\n",
    "# quit pygame\n",
    "while True:\n",
    "        for event in pygame.event.get():\n",
    "            if event.type == pygame.QUIT:\n",
    "                pygame.quit()\n"
   ],
   "outputs": [
    {
     "name": "stdout",
     "output_type": "stream",
     "text": [
      "pygame 2.6.1 (SDL 2.28.4, Python 3.10.9)\n",
      "Hello from the pygame community. https://www.pygame.org/contribute.html\n"
     ]
    },
    {
     "name": "stderr",
     "output_type": "stream",
     "text": [
      "2025-05-26 23:39:29.457 python[83838:33269060] +[IMKClient subclass]: chose IMKClient_Modern\n",
      "2025-05-26 23:39:29.457 python[83838:33269060] +[IMKInputSession subclass]: chose IMKInputSession_Modern\n"
     ]
    },
    {
     "ename": "error",
     "evalue": "video system not initialized",
     "output_type": "error",
     "traceback": [
      "\u001B[0;31m---------------------------------------------------------------------------\u001B[0m",
      "\u001B[0;31merror\u001B[0m                                     Traceback (most recent call last)",
      "Cell \u001B[0;32mIn[1], line 14\u001B[0m\n\u001B[1;32m     11\u001B[0m pygame\u001B[38;5;241m.\u001B[39mdisplay\u001B[38;5;241m.\u001B[39mflip()\n\u001B[1;32m     13\u001B[0m \u001B[38;5;28;01mwhile\u001B[39;00m \u001B[38;5;28;01mTrue\u001B[39;00m:\n\u001B[0;32m---> 14\u001B[0m         \u001B[38;5;28;01mfor\u001B[39;00m event \u001B[38;5;129;01min\u001B[39;00m \u001B[43mpygame\u001B[49m\u001B[38;5;241;43m.\u001B[39;49m\u001B[43mevent\u001B[49m\u001B[38;5;241;43m.\u001B[39;49m\u001B[43mget\u001B[49m\u001B[43m(\u001B[49m\u001B[43m)\u001B[49m:\n\u001B[1;32m     15\u001B[0m             \u001B[38;5;28;01mif\u001B[39;00m event\u001B[38;5;241m.\u001B[39mtype \u001B[38;5;241m==\u001B[39m pygame\u001B[38;5;241m.\u001B[39mQUIT:\n\u001B[1;32m     16\u001B[0m                 pygame\u001B[38;5;241m.\u001B[39mquit()\n",
      "\u001B[0;31merror\u001B[0m: video system not initialized"
     ]
    }
   ],
   "execution_count": 1
  },
  {
   "metadata": {},
   "cell_type": "markdown",
   "source": "To display an image using pygame",
   "id": "a5d13d86b2796d1e"
  },
  {
   "metadata": {
    "ExecuteTime": {
     "end_time": "2025-05-26T22:13:00.863527Z",
     "start_time": "2025-05-26T22:12:59.932126Z"
    }
   },
   "cell_type": "code",
   "source": [
    "# importing required library\n",
    "import pygame\n",
    "\n",
    "# activate the pygame library .\n",
    "pygame.init()\n",
    "X = 600\n",
    "Y = 600\n",
    "\n",
    "# create the display surface object\n",
    "# of specific dimension..e(X, Y).\n",
    "scrn = pygame.display.set_mode((X, Y))\n",
    "\n",
    "scrn.fill((255,255,255))\n",
    "\n",
    "# set the pygame window name\n",
    "pygame.display.set_caption('image')\n",
    "\n",
    "# create a surface object, image is drawn on it.\n",
    "imp = pygame.image.load(\"dino.png\").convert_alpha()\n",
    "\n",
    "# Using blit to copy content from one surface to other\n",
    "scrn.blit(imp, (100, 100))\n",
    "\n",
    "# paint screen one time\n",
    "pygame.display.flip()\n",
    "\n",
    "\n",
    "status = True\n",
    "while (status):\n",
    "\n",
    "  # iterate over the list of Event objects\n",
    "  # that was returned by pygame.event.get() method.\n",
    "    for i in pygame.event.get():\n",
    "\n",
    "        # if event object type is QUIT\n",
    "        # then quitting the pygame\n",
    "        # and program both.\n",
    "        if i.type == pygame.QUIT:\n",
    "            status = False\n",
    "\n",
    "# deactivates the pygame library\n",
    "pygame.quit()\n"
   ],
   "id": "28183cf62f38002c",
   "outputs": [
    {
     "name": "stdout",
     "output_type": "stream",
     "text": [
      "pygame 2.6.1 (SDL 2.28.4, Python 3.10.9)\n",
      "Hello from the pygame community. https://www.pygame.org/contribute.html\n"
     ]
    }
   ],
   "execution_count": 1
  },
  {
   "metadata": {},
   "cell_type": "markdown",
   "source": "If you want to check out other features and functions in pygame, check out the [documentation](https://www.pygame.org/docs/v)",
   "id": "1a9ee6eed62b528f"
  },
  {
   "metadata": {},
   "cell_type": "markdown",
   "source": [
    "#### Task 3:\n",
    "Study the code from `dino.py`. Reorganise it to fulfill the following requirements:\n",
    "\n",
    "Create a class called `Dino`, it shall have the following attributes\n",
    "- image: image of the item\n",
    "- position: it's current position on the screen (stored in a tuple)\n",
    "\n",
    "It has one method called `move()` that updates its position on the screen and another method called `draw()` that draws itself on the screen.\n",
    "\n"
   ],
   "id": "644de5e15b2a0e"
  }
 ],
 "metadata": {
  "kernelspec": {
   "display_name": "Python 3",
   "language": "python",
   "name": "python3"
  },
  "language_info": {
   "codemirror_mode": {
    "name": "ipython",
    "version": 2
   },
   "file_extension": ".py",
   "mimetype": "text/x-python",
   "name": "python",
   "nbconvert_exporter": "python",
   "pygments_lexer": "ipython2",
   "version": "2.7.6"
  }
 },
 "nbformat": 4,
 "nbformat_minor": 5
}
