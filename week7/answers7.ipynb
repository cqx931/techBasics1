{
 "cells": [
  {
   "cell_type": "markdown",
   "id": "71714a71",
   "metadata": {},
   "source": [
    "### Task 2"
   ]
  },
  {
   "cell_type": "code",
   "execution_count": 1,
   "id": "570944f9",
   "metadata": {},
   "outputs": [],
   "source": [
    "user = input(\"What's your name?\")\n",
    "n = int(input(\"How many weeks have you learned python?\"))\n",
    "\n",
    "with open(\"message.txt\",\"w\") as file:\n",
    "    file.write(f\"Hi {user}, we hope you enjoy learning Python here!\\n\")\n",
    "    file.write(\"Your github repo should look like this:\\n\")\n",
    "    file.write(\"    assignments/\\n\")\n",
    "    for i in range(n):\n",
    "        file.write(f\"        week{i+1}/\\n\")"
   ]
  },
  {
   "cell_type": "markdown",
   "id": "1dde0ae2",
   "metadata": {},
   "source": [
    "### Task 3"
   ]
  },
  {
   "cell_type": "code",
   "execution_count": null,
   "id": "e4696ba7",
   "metadata": {},
   "outputs": [
    {
     "data": {
      "text/plain": [
       "{'Apple': 132.99,\n",
       " 'Banana': 1.39,\n",
       " 'Orange': 2.99,\n",
       " 'Grapes': 1.99,\n",
       " 'Strawberry': 133.99,\n",
       " 'Kiwi': 2.5,\n",
       " 'Pineapple': 2.8,\n",
       " 'Blueberry': 5.0,\n",
       " 'Pear': 2.2,\n",
       " 'Watermelon': 1.39}"
      ]
     },
     "execution_count": 3,
     "metadata": {},
     "output_type": "execute_result"
    }
   ],
   "source": [
    "def read_fruits():\n",
    "    dict = {}\n",
    "\n",
    "    with open(\"fruits.csv\") as f:\n",
    "\n",
    "        f.readline() # skip the first row\n",
    "\n",
    "        for line in f:\n",
    "            items = line.split(\",\")\n",
    "            # print(items)\n",
    "            name = items[0]\n",
    "            price = float(items[1])\n",
    "            dict[name] = price\n",
    "            \n",
    "    return dict\n",
    "\n",
    "read_fruits()"
   ]
  },
  {
   "cell_type": "markdown",
   "id": "c92eabbd",
   "metadata": {},
   "source": [
    "### Task 4"
   ]
  },
  {
   "cell_type": "code",
   "execution_count": null,
   "id": "b01bb068",
   "metadata": {},
   "outputs": [
    {
     "name": "stdout",
     "output_type": "stream",
     "text": [
      "['Fruit', 'Price per kg', 'Origin']\n",
      "[{'Fruit': 'Apple', 'Price per kg': '132.99', 'Origin': 'Germany'}, {'Fruit': 'Banana', 'Price per kg': '1.39', 'Origin': 'Ecuador'}, {'Fruit': 'Orange', 'Price per kg': '2.99', 'Origin': 'Spain'}, {'Fruit': 'Grapes', 'Price per kg': '1.99', 'Origin': 'Italy'}, {'Fruit': 'Strawberry', 'Price per kg': '133.99', 'Origin': 'Germany'}, {'Fruit': 'Kiwi', 'Price per kg': '2.50', 'Origin': 'New Zealand'}, {'Fruit': 'Pineapple', 'Price per kg': '2.80', 'Origin': 'Costa Rica'}, {'Fruit': 'Blueberry', 'Price per kg': '5.00', 'Origin': 'Spain'}, {'Fruit': 'Pear', 'Price per kg': '2.20', 'Origin': 'Netherlands'}, {'Fruit': 'Watermelon', 'Price per kg': '1.39', 'Origin': 'Spain'}]\n",
      "['Fruit', 'Price per kg', 'Origin', 'Availability']\n",
      "[{'Fruit': 'Apple', 'Price per kg': '132.99', 'Origin': 'Germany', 'Availability': False}, {'Fruit': 'Banana', 'Price per kg': '1.39', 'Origin': 'Ecuador', 'Availability': False}, {'Fruit': 'Orange', 'Price per kg': '2.99', 'Origin': 'Spain', 'Availability': False}, {'Fruit': 'Grapes', 'Price per kg': '1.99', 'Origin': 'Italy', 'Availability': True}, {'Fruit': 'Strawberry', 'Price per kg': '133.99', 'Origin': 'Germany', 'Availability': False}, {'Fruit': 'Kiwi', 'Price per kg': '2.50', 'Origin': 'New Zealand', 'Availability': True}, {'Fruit': 'Pineapple', 'Price per kg': '2.80', 'Origin': 'Costa Rica', 'Availability': False}, {'Fruit': 'Blueberry', 'Price per kg': '5.00', 'Origin': 'Spain', 'Availability': False}, {'Fruit': 'Pear', 'Price per kg': '2.20', 'Origin': 'Netherlands', 'Availability': False}, {'Fruit': 'Watermelon', 'Price per kg': '1.39', 'Origin': 'Spain', 'Availability': False}]\n"
     ]
    }
   ],
   "source": [
    "import csv, random\n",
    "\n",
    "rows = []\n",
    "fieldnames = []\n",
    "\n",
    "def read_and_write():\n",
    "\n",
    "    # because we need to write a new col, we can't use append mode (It only add new rows)\n",
    "    # so we need to first read the current file to some variable, edit it then export it\n",
    "    # This example shows how to do it with DoctReader and Writer\n",
    "\n",
    "    with open(\"fruits.csv\") as f:\n",
    "        reader = csv.DictReader(f)\n",
    "        fieldnames = reader.fieldnames\n",
    "\n",
    "        for row in reader:\n",
    "            rows.append(row)\n",
    "    \n",
    "    print(fieldnames)\n",
    "    print(rows)\n",
    "\n",
    "    fieldnames.append(\"Availability\")\n",
    "    for row in rows:\n",
    "        randomValue =  bool(random.randint(0, 1))\n",
    "        row[\"Availability\"] = randomValue\n",
    "    \n",
    "    print(fieldnames)\n",
    "    print(rows)\n",
    "\n",
    "    with open('fruits_new.csv', 'w', newline='') as csvfile:\n",
    "        \n",
    "        writer = csv.DictWriter(csvfile, fieldnames=fieldnames) # specify fieldnames as a parameter\n",
    "        writer.writeheader() # First writeheader() then writerow()\n",
    "        writer.writerows(rows)\n",
    "\n",
    "read_and_write()\n"
   ]
  }
 ],
 "metadata": {
  "kernelspec": {
   "display_name": "base",
   "language": "python",
   "name": "python3"
  },
  "language_info": {
   "codemirror_mode": {
    "name": "ipython",
    "version": 3
   },
   "file_extension": ".py",
   "mimetype": "text/x-python",
   "name": "python",
   "nbconvert_exporter": "python",
   "pygments_lexer": "ipython3",
   "version": "3.10.9"
  }
 },
 "nbformat": 4,
 "nbformat_minor": 5
}
